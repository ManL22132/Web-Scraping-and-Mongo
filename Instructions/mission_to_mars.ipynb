{
 "cells": [
  {
   "cell_type": "code",
   "execution_count": null,
   "metadata": {},
   "outputs": [],
   "source": [
    "# ******************************************************************************\n",
    "# Dependencies and Setup\n",
    "# ******************************************************************************\n",
    "import pandas as pd\n",
    "from bs4 import BeautifulSoup\n",
    "import requests\n",
    "from splinter import Browser"
   ]
  },
  {
   "cell_type": "code",
   "execution_count": null,
   "metadata": {},
   "outputs": [],
   "source": [
    "# ******************************************************************************\n",
    "# URL of page to be scraped for the Mars News info\n",
    "# ******************************************************************************\n",
    "url = 'https://mars.nasa.gov/news/'"
   ]
  },
  {
   "cell_type": "code",
   "execution_count": null,
   "metadata": {},
   "outputs": [],
   "source": [
    "# ******************************************************************************\n",
    "# Retrieve page with the requests module\n",
    "# ******************************************************************************\n",
    "response = requests.get(url)"
   ]
  },
  {
   "cell_type": "code",
   "execution_count": null,
   "metadata": {},
   "outputs": [],
   "source": [
    "# ******************************************************************************\n",
    "# Create BeautifulSoup object; parse with 'html.parser'\n",
    "# ******************************************************************************\n",
    "soup = BeautifulSoup(response.text, 'html.parser')"
   ]
  },
  {
   "cell_type": "code",
   "execution_count": null,
   "metadata": {},
   "outputs": [],
   "source": [
    "# ******************************************************************************\n",
    "# Examine the results, then determine element that contains Mars news title and \n",
    "# descriptive paragraph.\n",
    "# ******************************************************************************\n",
    "print(soup.prettify())"
   ]
  },
  {
   "cell_type": "code",
   "execution_count": null,
   "metadata": {},
   "outputs": [],
   "source": [
    "# ******************************************************************************\n",
    "# Find the Title for the feature news article. Remove newlines.\n",
    "# ******************************************************************************\n",
    "news_title = soup.find('div', class_=\"slide\").find('div', class_='content_title').text\n",
    "news_title = news_title.replace('\\n', '')\n",
    "print(f'The Title = \"{news_title}\"')"
   ]
  },
  {
   "cell_type": "code",
   "execution_count": null,
   "metadata": {},
   "outputs": [],
   "source": [
    "# ******************************************************************************\n",
    "# Find the Paragraph Text for the feature news article. Remove newlines.\n",
    "# ******************************************************************************\n",
    "news_p = soup.find('div', class_=\"slide\").div.a.div.div.text\n",
    "news_p = news_p.replace('\\n', '')\n",
    "print(f'The paragraph text = \"{news_p}\"')"
   ]
  },
  {
   "cell_type": "markdown",
   "metadata": {},
   "source": [
    "JPL Mars Space Images - Featured Image"
   ]
  },
  {
   "cell_type": "code",
   "execution_count": null,
   "metadata": {},
   "outputs": [],
   "source": [
    "# ******************************************************************************\n",
    "# Define path for chromedriver and start the browser\n",
    "# ******************************************************************************\n",
    "executable_path = {'executable_path': 'C:\\Users\\Bigman\\Downloads\\chromedriver_win32\\chromedriver.exe'}\n",
    "browser = Browser('chrome', **executable_path, headless=False)"
   ]
  },
  {
   "cell_type": "code",
   "execution_count": null,
   "metadata": {},
   "outputs": [],
   "source": [
    "# ******************************************************************************\n",
    "# Define the url to be scrapped and bring it up in the browser\n",
    "# ******************************************************************************\n",
    "url = 'https://www.jpl.nasa.gov/spaceimages/?search=&category=Mars'\n",
    "browser.visit(url)"
   ]
  },
  {
   "cell_type": "code",
   "execution_count": null,
   "metadata": {},
   "outputs": [],
   "source": [
    "# ******************************************************************************\n",
    "# Define the HTML object\n",
    "# ******************************************************************************\n",
    "html = browser.html\n",
    "\n",
    "soup = BeautifulSoup(html, 'html.parser')"
   ]
  },
  {
   "cell_type": "code",
   "execution_count": null,
   "metadata": {},
   "outputs": [],
   "source": [
    "# ******************************************************************************\n",
    "# Find and store the url to the featured image\n",
    "# ******************************************************************************\n",
    "primary_feature = soup.find('section', class_=\"primary_media_feature\")\n",
    "item = primary_feature.find('div', class_='carousel_items')\n",
    "article = item.find('article', class_='carousel_item')['style']\n",
    "article"
   ]
  },
  {
   "cell_type": "code",
   "execution_count": null,
   "metadata": {},
   "outputs": [],
   "source": [
    "# ******************************************************************************\n",
    "# Split the article by \"'\" so we can capture the ending part of the url, then \n",
    "# add the front and ending part of the url to the feature image.\n",
    "# ******************************************************************************\n",
    "article_arr = article.split(\"\\'\")\n",
    "featured_image_url = ('https://www.jpl.nasa.gov' + article_arr[1])\n",
    "featured_image_url"
   ]
  },
  {
   "cell_type": "markdown",
   "metadata": {},
   "source": [
    "Mars Weather"
   ]
  },
  {
   "cell_type": "code",
   "execution_count": null,
   "metadata": {},
   "outputs": [],
   "source": [
    "# ******************************************************************************\n",
    "# URL of page to be scraped for the Mars Weather data\n",
    "# ******************************************************************************\n",
    "url = 'https://twitter.com/marswxreport?lang=en'"
   ]
  },
  {
   "cell_type": "code",
   "execution_count": null,
   "metadata": {},
   "outputs": [],
   "source": [
    "# ******************************************************************************\n",
    "# Retrieve page with the requests module\n",
    "# ******************************************************************************\n",
    "response = requests.get(url)"
   ]
  },
  {
   "cell_type": "code",
   "execution_count": null,
   "metadata": {},
   "outputs": [],
   "source": [
    "# ******************************************************************************\n",
    "# Create BeautifulSoup object; parse with 'html.parser'\n",
    "# ******************************************************************************\n",
    "soup = BeautifulSoup(response.text, 'html.parser')"
   ]
  },
  {
   "cell_type": "code",
   "execution_count": null,
   "metadata": {},
   "outputs": [],
   "source": [
    "# ******************************************************************************\n",
    "# Examine the results, then determine element that contains sought info\n",
    "# ******************************************************************************\n",
    "print(soup.prettify())"
   ]
  }
 ],
 "metadata": {
  "kernelspec": {
   "display_name": "Python 3",
   "language": "python",
   "name": "python3"
  },
  "language_info": {
   "codemirror_mode": {
    "name": "ipython",
    "version": 3
   },
   "file_extension": ".py",
   "mimetype": "text/x-python",
   "name": "python",
   "nbconvert_exporter": "python",
   "pygments_lexer": "ipython3",
   "version": "3.7.2"
  }
 },
 "nbformat": 4,
 "nbformat_minor": 2
}
